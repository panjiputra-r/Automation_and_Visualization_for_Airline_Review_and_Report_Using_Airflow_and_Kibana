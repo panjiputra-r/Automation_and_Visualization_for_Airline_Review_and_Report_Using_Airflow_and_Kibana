{
 "cells": [
  {
   "cell_type": "markdown",
   "metadata": {},
   "source": [
    "==================================================================================\n",
    "\n",
    "Nama : Panji Putra Rianto   \n",
    "Batch : HCK - 012  \n",
    "Objective : Program ini dibuat untuk melakukan pengecekan menggunakan great expectation terhadap data yang sudah dilakukan cleaning.  \n",
    "\n",
    "=================================================================================="
   ]
  },
  {
   "cell_type": "code",
   "execution_count": 26,
   "metadata": {},
   "outputs": [],
   "source": [
    "# Create a data context\n",
    "\n",
    "from great_expectations.data_context import FileDataContext\n",
    "\n",
    "context = FileDataContext.create(project_root_dir='./')"
   ]
  },
  {
   "cell_type": "code",
   "execution_count": 29,
   "metadata": {},
   "outputs": [],
   "source": [
    "# Give a name to a Datasource. This name must be unique between Datasources.\n",
    "datasource_name = 'P2M3_panji_putra_sourcedata'\n",
    "datasource = context.sources.add_pandas(datasource_name)\n",
    "\n",
    "# Give a name to a data asset\n",
    "asset_name = 'P2M3_panji_putra_asset'\n",
    "path_to_data = 'C:\\Panji\\Hacktiv8\\FASE_2\\Milestone3\\p2-ftds012-hck-m3-panjiputra-r\\dags\\P2M3_panji_putra_data_clean.csv'\n",
    "asset = datasource.add_csv_asset(asset_name, filepath_or_buffer=path_to_data)\n",
    "\n",
    "# Build batch request\n",
    "batch_request = asset.build_batch_request()"
   ]
  },
  {
   "cell_type": "code",
   "execution_count": 30,
   "metadata": {},
   "outputs": [
    {
     "data": {
      "application/vnd.jupyter.widget-view+json": {
       "model_id": "b8b9a071dfcf4de19cb708162c1ea713",
       "version_major": 2,
       "version_minor": 0
      },
      "text/plain": [
       "Calculating Metrics:   0%|          | 0/1 [00:00<?, ?it/s]"
      ]
     },
     "metadata": {},
     "output_type": "display_data"
    },
    {
     "data": {
      "text/html": [
       "<div>\n",
       "<style scoped>\n",
       "    .dataframe tbody tr th:only-of-type {\n",
       "        vertical-align: middle;\n",
       "    }\n",
       "\n",
       "    .dataframe tbody tr th {\n",
       "        vertical-align: top;\n",
       "    }\n",
       "\n",
       "    .dataframe thead th {\n",
       "        text-align: right;\n",
       "    }\n",
       "</style>\n",
       "<table border=\"1\" class=\"dataframe\">\n",
       "  <thead>\n",
       "    <tr style=\"text-align: right;\">\n",
       "      <th></th>\n",
       "      <th>flight_id</th>\n",
       "      <th>airline_name</th>\n",
       "      <th>overall_rating</th>\n",
       "      <th>review_title</th>\n",
       "      <th>review_date</th>\n",
       "      <th>verified</th>\n",
       "      <th>review</th>\n",
       "      <th>aircraft</th>\n",
       "      <th>type_of_traveller</th>\n",
       "      <th>seat_type</th>\n",
       "      <th>...</th>\n",
       "      <th>seat_comfort</th>\n",
       "      <th>cabin_staff_service</th>\n",
       "      <th>food_&amp;_beverages</th>\n",
       "      <th>ground_service</th>\n",
       "      <th>inflight_entertainment</th>\n",
       "      <th>wifi_&amp;_connectivity</th>\n",
       "      <th>value_for_money</th>\n",
       "      <th>recommended</th>\n",
       "      <th>flight_month</th>\n",
       "      <th>flight_year</th>\n",
       "    </tr>\n",
       "  </thead>\n",
       "  <tbody>\n",
       "    <tr>\n",
       "      <th>0</th>\n",
       "      <td>5</td>\n",
       "      <td>Adria Airways</td>\n",
       "      <td>1.0</td>\n",
       "      <td>\"Had very bad experience\"</td>\n",
       "      <td>2019-09-17</td>\n",
       "      <td>True</td>\n",
       "      <td>Had very bad experience with rerouted and ca...</td>\n",
       "      <td>CR 900</td>\n",
       "      <td>Couple Leisure</td>\n",
       "      <td>Economy Class</td>\n",
       "      <td>...</td>\n",
       "      <td>1.0</td>\n",
       "      <td>1.0</td>\n",
       "      <td>1.0</td>\n",
       "      <td>1.0</td>\n",
       "      <td>1.0</td>\n",
       "      <td>1.0</td>\n",
       "      <td>1.0</td>\n",
       "      <td>no</td>\n",
       "      <td>September</td>\n",
       "      <td>2019</td>\n",
       "    </tr>\n",
       "    <tr>\n",
       "      <th>1</th>\n",
       "      <td>7</td>\n",
       "      <td>Adria Airways</td>\n",
       "      <td>1.0</td>\n",
       "      <td>\"book another company\"</td>\n",
       "      <td>2019-08-24</td>\n",
       "      <td>False</td>\n",
       "      <td>First of all, I am not complaining about a s...</td>\n",
       "      <td>Bombardier CRJ</td>\n",
       "      <td>Solo Leisure</td>\n",
       "      <td>Economy Class</td>\n",
       "      <td>...</td>\n",
       "      <td>1.0</td>\n",
       "      <td>1.0</td>\n",
       "      <td>1.0</td>\n",
       "      <td>1.0</td>\n",
       "      <td>1.0</td>\n",
       "      <td>1.0</td>\n",
       "      <td>1.0</td>\n",
       "      <td>no</td>\n",
       "      <td>August</td>\n",
       "      <td>2019</td>\n",
       "    </tr>\n",
       "    <tr>\n",
       "      <th>2</th>\n",
       "      <td>22</td>\n",
       "      <td>Adria Airways</td>\n",
       "      <td>8.0</td>\n",
       "      <td>\"seat was quite comfortable \"</td>\n",
       "      <td>2017-01-27</td>\n",
       "      <td>False</td>\n",
       "      <td>Ljubljana to Vienna. After a fast boarding p...</td>\n",
       "      <td>Canadair 700</td>\n",
       "      <td>Solo Leisure</td>\n",
       "      <td>Business Class</td>\n",
       "      <td>...</td>\n",
       "      <td>5.0</td>\n",
       "      <td>5.0</td>\n",
       "      <td>4.0</td>\n",
       "      <td>5.0</td>\n",
       "      <td>5.0</td>\n",
       "      <td>5.0</td>\n",
       "      <td>4.0</td>\n",
       "      <td>yes</td>\n",
       "      <td>December</td>\n",
       "      <td>2016</td>\n",
       "    </tr>\n",
       "    <tr>\n",
       "      <th>3</th>\n",
       "      <td>29</td>\n",
       "      <td>Adria Airways</td>\n",
       "      <td>6.0</td>\n",
       "      <td>\"staff were all pleasant enough\"</td>\n",
       "      <td>2016-09-04</td>\n",
       "      <td>False</td>\n",
       "      <td>Booked this flight after many years using Easy...</td>\n",
       "      <td>A319</td>\n",
       "      <td>Family Leisure</td>\n",
       "      <td>Economy Class</td>\n",
       "      <td>...</td>\n",
       "      <td>2.0</td>\n",
       "      <td>4.0</td>\n",
       "      <td>3.0</td>\n",
       "      <td>3.0</td>\n",
       "      <td>4.0</td>\n",
       "      <td>4.0</td>\n",
       "      <td>4.0</td>\n",
       "      <td>yes</td>\n",
       "      <td>September</td>\n",
       "      <td>2016</td>\n",
       "    </tr>\n",
       "    <tr>\n",
       "      <th>4</th>\n",
       "      <td>113</td>\n",
       "      <td>Aegean Airlines</td>\n",
       "      <td>1.0</td>\n",
       "      <td>\"Please keep up the excellent work\"</td>\n",
       "      <td>2023-04-26</td>\n",
       "      <td>True</td>\n",
       "      <td>Aegean Airlines will remain always my first ...</td>\n",
       "      <td>A321 Neo</td>\n",
       "      <td>Solo Leisure</td>\n",
       "      <td>Economy Class</td>\n",
       "      <td>...</td>\n",
       "      <td>5.0</td>\n",
       "      <td>5.0</td>\n",
       "      <td>5.0</td>\n",
       "      <td>5.0</td>\n",
       "      <td>3.0</td>\n",
       "      <td>4.0</td>\n",
       "      <td>5.0</td>\n",
       "      <td>yes</td>\n",
       "      <td>April</td>\n",
       "      <td>2023</td>\n",
       "    </tr>\n",
       "  </tbody>\n",
       "</table>\n",
       "<p>5 rows × 21 columns</p>\n",
       "</div>"
      ],
      "text/plain": [
       "   flight_id     airline_name  overall_rating  \\\n",
       "0          5    Adria Airways             1.0   \n",
       "1          7    Adria Airways             1.0   \n",
       "2         22    Adria Airways             8.0   \n",
       "3         29    Adria Airways             6.0   \n",
       "4        113  Aegean Airlines             1.0   \n",
       "\n",
       "                          review_title review_date  verified  \\\n",
       "0            \"Had very bad experience\"  2019-09-17      True   \n",
       "1               \"book another company\"  2019-08-24     False   \n",
       "2        \"seat was quite comfortable \"  2017-01-27     False   \n",
       "3     \"staff were all pleasant enough\"  2016-09-04     False   \n",
       "4  \"Please keep up the excellent work\"  2023-04-26      True   \n",
       "\n",
       "                                              review        aircraft  \\\n",
       "0    Had very bad experience with rerouted and ca...          CR 900   \n",
       "1    First of all, I am not complaining about a s...  Bombardier CRJ   \n",
       "2    Ljubljana to Vienna. After a fast boarding p...    Canadair 700   \n",
       "3  Booked this flight after many years using Easy...            A319   \n",
       "4    Aegean Airlines will remain always my first ...        A321 Neo   \n",
       "\n",
       "  type_of_traveller       seat_type  ... seat_comfort  cabin_staff_service  \\\n",
       "0    Couple Leisure   Economy Class  ...          1.0                  1.0   \n",
       "1      Solo Leisure   Economy Class  ...          1.0                  1.0   \n",
       "2      Solo Leisure  Business Class  ...          5.0                  5.0   \n",
       "3    Family Leisure   Economy Class  ...          2.0                  4.0   \n",
       "4      Solo Leisure   Economy Class  ...          5.0                  5.0   \n",
       "\n",
       "   food_&_beverages  ground_service  inflight_entertainment  \\\n",
       "0               1.0             1.0                     1.0   \n",
       "1               1.0             1.0                     1.0   \n",
       "2               4.0             5.0                     5.0   \n",
       "3               3.0             3.0                     4.0   \n",
       "4               5.0             5.0                     3.0   \n",
       "\n",
       "   wifi_&_connectivity  value_for_money  recommended flight_month flight_year  \n",
       "0                  1.0              1.0           no    September        2019  \n",
       "1                  1.0              1.0           no       August        2019  \n",
       "2                  5.0              4.0          yes     December        2016  \n",
       "3                  4.0              4.0          yes    September        2016  \n",
       "4                  4.0              5.0          yes        April        2023  \n",
       "\n",
       "[5 rows x 21 columns]"
      ]
     },
     "execution_count": 30,
     "metadata": {},
     "output_type": "execute_result"
    }
   ],
   "source": [
    "# Creat an expectation suite\n",
    "expectation_suite_name = 'P2M3_panji_putra_asset'\n",
    "context.add_or_update_expectation_suite(expectation_suite_name)\n",
    "\n",
    "# Create a validator using above expectation suite\n",
    "validator = context.get_validator(\n",
    "    batch_request = batch_request,\n",
    "    expectation_suite_name = expectation_suite_name\n",
    ")\n",
    "\n",
    "# Check the validator\n",
    "validator.head()"
   ]
  },
  {
   "cell_type": "markdown",
   "metadata": {},
   "source": [
    "## Expectation 1 : Kolom `flight_id` harus unique"
   ]
  },
  {
   "cell_type": "code",
   "execution_count": 32,
   "metadata": {},
   "outputs": [
    {
     "data": {
      "application/vnd.jupyter.widget-view+json": {
       "model_id": "097f7daa613548b09606b7d285c8a71b",
       "version_major": 2,
       "version_minor": 0
      },
      "text/plain": [
       "Calculating Metrics:   0%|          | 0/8 [00:00<?, ?it/s]"
      ]
     },
     "metadata": {},
     "output_type": "display_data"
    },
    {
     "data": {
      "text/plain": [
       "{\n",
       "  \"success\": true,\n",
       "  \"result\": {\n",
       "    \"element_count\": 1667,\n",
       "    \"unexpected_count\": 0,\n",
       "    \"unexpected_percent\": 0.0,\n",
       "    \"partial_unexpected_list\": [],\n",
       "    \"missing_count\": 0,\n",
       "    \"missing_percent\": 0.0,\n",
       "    \"unexpected_percent_total\": 0.0,\n",
       "    \"unexpected_percent_nonmissing\": 0.0\n",
       "  },\n",
       "  \"meta\": {},\n",
       "  \"exception_info\": {\n",
       "    \"raised_exception\": false,\n",
       "    \"exception_traceback\": null,\n",
       "    \"exception_message\": null\n",
       "  }\n",
       "}"
      ]
     },
     "execution_count": 32,
     "metadata": {},
     "output_type": "execute_result"
    }
   ],
   "source": [
    "validator.expect_column_values_to_be_unique('flight_id')"
   ]
  },
  {
   "cell_type": "markdown",
   "metadata": {},
   "source": [
    "Expectation ini menentukan bahwa nilai di dalam kolom 'flight_id' diharapkan unik. Dengan kata lain, validasi ini memeriksa apakah tidak ada duplikat dalam kolom 'flight_id' dalam dataset tersebut."
   ]
  },
  {
   "cell_type": "markdown",
   "metadata": {},
   "source": [
    "## Expectation 2 : Kolom `flight_year` harus memiliki value dengan rentang 2015 hingga 2023"
   ]
  },
  {
   "cell_type": "code",
   "execution_count": 33,
   "metadata": {},
   "outputs": [
    {
     "data": {
      "application/vnd.jupyter.widget-view+json": {
       "model_id": "0ed398eaf90947cd8d60285b6d151629",
       "version_major": 2,
       "version_minor": 0
      },
      "text/plain": [
       "Calculating Metrics:   0%|          | 0/8 [00:00<?, ?it/s]"
      ]
     },
     "metadata": {},
     "output_type": "display_data"
    },
    {
     "data": {
      "text/plain": [
       "{\n",
       "  \"success\": true,\n",
       "  \"result\": {\n",
       "    \"element_count\": 1667,\n",
       "    \"unexpected_count\": 0,\n",
       "    \"unexpected_percent\": 0.0,\n",
       "    \"partial_unexpected_list\": [],\n",
       "    \"missing_count\": 0,\n",
       "    \"missing_percent\": 0.0,\n",
       "    \"unexpected_percent_total\": 0.0,\n",
       "    \"unexpected_percent_nonmissing\": 0.0\n",
       "  },\n",
       "  \"meta\": {},\n",
       "  \"exception_info\": {\n",
       "    \"raised_exception\": false,\n",
       "    \"exception_traceback\": null,\n",
       "    \"exception_message\": null\n",
       "  }\n",
       "}"
      ]
     },
     "execution_count": 33,
     "metadata": {},
     "output_type": "execute_result"
    }
   ],
   "source": [
    "validator.expect_column_values_to_be_between(\n",
    "    column='flight_year', min_value=2015, max_value=2023\n",
    ")"
   ]
  },
  {
   "cell_type": "markdown",
   "metadata": {},
   "source": [
    " Menunjukkan rentang nilai yang diharapkan dari kolom 'flight_year', yaitu mulai dari tahun 2015 hingga 2023, inklusif."
   ]
  },
  {
   "cell_type": "markdown",
   "metadata": {},
   "source": [
    "# Expectation 3 : Kolom `verified` harus memiliki 2 value ini 'True' dan 'False' :"
   ]
  },
  {
   "cell_type": "code",
   "execution_count": 34,
   "metadata": {},
   "outputs": [
    {
     "data": {
      "application/vnd.jupyter.widget-view+json": {
       "model_id": "4323f1dfb16840a9a1bc17a7948e271e",
       "version_major": 2,
       "version_minor": 0
      },
      "text/plain": [
       "Calculating Metrics:   0%|          | 0/8 [00:00<?, ?it/s]"
      ]
     },
     "metadata": {},
     "output_type": "display_data"
    },
    {
     "data": {
      "text/plain": [
       "{\n",
       "  \"success\": true,\n",
       "  \"result\": {\n",
       "    \"element_count\": 1667,\n",
       "    \"unexpected_count\": 0,\n",
       "    \"unexpected_percent\": 0.0,\n",
       "    \"partial_unexpected_list\": [],\n",
       "    \"missing_count\": 0,\n",
       "    \"missing_percent\": 0.0,\n",
       "    \"unexpected_percent_total\": 0.0,\n",
       "    \"unexpected_percent_nonmissing\": 0.0\n",
       "  },\n",
       "  \"meta\": {},\n",
       "  \"exception_info\": {\n",
       "    \"raised_exception\": false,\n",
       "    \"exception_traceback\": null,\n",
       "    \"exception_message\": null\n",
       "  }\n",
       "}"
      ]
     },
     "execution_count": 34,
     "metadata": {},
     "output_type": "execute_result"
    }
   ],
   "source": [
    "validator.expect_column_values_to_be_in_set('verified', [True, False])"
   ]
  },
  {
   "cell_type": "markdown",
   "metadata": {},
   "source": [
    "Dengan menggunakan validasi ini, memastikan bahwa nilai-nilai dalam kolom 'verified' terdiri dari nilai yang diharapkan, yaitu True dan False, sehingga memastikan konsistensi data dan memastikan bahwa kolom tersebut hanya berisi nilai yang diizinkan."
   ]
  },
  {
   "cell_type": "markdown",
   "metadata": {},
   "source": [
    "## Expectation 4 : Kolom `overall_rating` harus dalam bentuk float"
   ]
  },
  {
   "cell_type": "code",
   "execution_count": 35,
   "metadata": {},
   "outputs": [
    {
     "data": {
      "application/vnd.jupyter.widget-view+json": {
       "model_id": "9101d9d4795f457184e1a02279fc0d21",
       "version_major": 2,
       "version_minor": 0
      },
      "text/plain": [
       "Calculating Metrics:   0%|          | 0/1 [00:00<?, ?it/s]"
      ]
     },
     "metadata": {},
     "output_type": "display_data"
    },
    {
     "data": {
      "text/plain": [
       "{\n",
       "  \"success\": true,\n",
       "  \"result\": {\n",
       "    \"observed_value\": \"float64\"\n",
       "  },\n",
       "  \"meta\": {},\n",
       "  \"exception_info\": {\n",
       "    \"raised_exception\": false,\n",
       "    \"exception_traceback\": null,\n",
       "    \"exception_message\": null\n",
       "  }\n",
       "}"
      ]
     },
     "execution_count": 35,
     "metadata": {},
     "output_type": "execute_result"
    }
   ],
   "source": [
    "validator.expect_column_values_to_be_in_type_list('overall_rating', ['float'])"
   ]
  },
  {
   "cell_type": "markdown",
   "metadata": {},
   "source": [
    "Expectation ini memastikan bahwa nilai-nilai dalam kolom 'overall_rating' memiliki tipe data float, sehingga memastikan konsistensi tipe data dan memastikan bahwa kolom tersebut hanya berisi nilai yang sesuai dengan jenis data yang diizinkan."
   ]
  },
  {
   "cell_type": "markdown",
   "metadata": {},
   "source": [
    "## Expectation 5 : Kolom `airline_name` tidak boleh terdapat missing values"
   ]
  },
  {
   "cell_type": "code",
   "execution_count": 36,
   "metadata": {},
   "outputs": [
    {
     "data": {
      "application/vnd.jupyter.widget-view+json": {
       "model_id": "22e8e3f0aeb14811abe13cddacadca61",
       "version_major": 2,
       "version_minor": 0
      },
      "text/plain": [
       "Calculating Metrics:   0%|          | 0/6 [00:00<?, ?it/s]"
      ]
     },
     "metadata": {},
     "output_type": "display_data"
    },
    {
     "data": {
      "text/plain": [
       "{\n",
       "  \"success\": true,\n",
       "  \"result\": {\n",
       "    \"element_count\": 1667,\n",
       "    \"unexpected_count\": 0,\n",
       "    \"unexpected_percent\": 0.0,\n",
       "    \"partial_unexpected_list\": []\n",
       "  },\n",
       "  \"meta\": {},\n",
       "  \"exception_info\": {\n",
       "    \"raised_exception\": false,\n",
       "    \"exception_traceback\": null,\n",
       "    \"exception_message\": null\n",
       "  }\n",
       "}"
      ]
     },
     "execution_count": 36,
     "metadata": {},
     "output_type": "execute_result"
    }
   ],
   "source": [
    "validator.expect_column_values_to_not_be_null('airline_name')"
   ]
  },
  {
   "cell_type": "markdown",
   "metadata": {},
   "source": [
    "Memastikan bahwa tidak ada nilai null (atau None) dalam kolom 'airline_name'."
   ]
  },
  {
   "cell_type": "markdown",
   "metadata": {},
   "source": [
    "## Expectation 6: Kolom 'review_title' harus ada"
   ]
  },
  {
   "cell_type": "code",
   "execution_count": 37,
   "metadata": {},
   "outputs": [
    {
     "data": {
      "application/vnd.jupyter.widget-view+json": {
       "model_id": "26c5e48365b041b9b1f1c18da8aa058e",
       "version_major": 2,
       "version_minor": 0
      },
      "text/plain": [
       "Calculating Metrics:   0%|          | 0/2 [00:00<?, ?it/s]"
      ]
     },
     "metadata": {},
     "output_type": "display_data"
    },
    {
     "data": {
      "text/plain": [
       "{\n",
       "  \"success\": true,\n",
       "  \"result\": {},\n",
       "  \"meta\": {},\n",
       "  \"exception_info\": {\n",
       "    \"raised_exception\": false,\n",
       "    \"exception_traceback\": null,\n",
       "    \"exception_message\": null\n",
       "  }\n",
       "}"
      ]
     },
     "execution_count": 37,
     "metadata": {},
     "output_type": "execute_result"
    }
   ],
   "source": [
    "validator.expect_column_to_exist('review_title')"
   ]
  },
  {
   "cell_type": "markdown",
   "metadata": {},
   "source": [
    "Dengan menggunakan validasi ini, memastikan bahwa dataset memiliki kolom 'review_title', sehingga memastikan konsistensi dalam struktur dataset dan memastikan bahwa operasi yang akan dilakukan pada dataset tidak akan menghasilkan kesalahan karena kekurangan kolom yang diharapkan."
   ]
  },
  {
   "cell_type": "markdown",
   "metadata": {},
   "source": [
    "## Expectation 7 : Melakukan cek distinct values terhadap kolom \"food_&_beverages\"."
   ]
  },
  {
   "cell_type": "code",
   "execution_count": 41,
   "metadata": {},
   "outputs": [
    {
     "data": {
      "application/vnd.jupyter.widget-view+json": {
       "model_id": "2831b2fb6d7d4c9b8708a745a17e3d86",
       "version_major": 2,
       "version_minor": 0
      },
      "text/plain": [
       "Calculating Metrics:   0%|          | 0/4 [00:00<?, ?it/s]"
      ]
     },
     "metadata": {},
     "output_type": "display_data"
    },
    {
     "data": {
      "text/plain": [
       "{\n",
       "  \"success\": true,\n",
       "  \"result\": {\n",
       "    \"observed_value\": [\n",
       "      1.0,\n",
       "      2.0,\n",
       "      3.0,\n",
       "      4.0,\n",
       "      5.0\n",
       "    ],\n",
       "    \"details\": {\n",
       "      \"value_counts\": [\n",
       "        {\n",
       "          \"value\": 1.0,\n",
       "          \"count\": 584\n",
       "        },\n",
       "        {\n",
       "          \"value\": 2.0,\n",
       "          \"count\": 217\n",
       "        },\n",
       "        {\n",
       "          \"value\": 3.0,\n",
       "          \"count\": 249\n",
       "        },\n",
       "        {\n",
       "          \"value\": 4.0,\n",
       "          \"count\": 268\n",
       "        },\n",
       "        {\n",
       "          \"value\": 5.0,\n",
       "          \"count\": 349\n",
       "        }\n",
       "      ]\n",
       "    }\n",
       "  },\n",
       "  \"meta\": {},\n",
       "  \"exception_info\": {\n",
       "    \"raised_exception\": false,\n",
       "    \"exception_traceback\": null,\n",
       "    \"exception_message\": null\n",
       "  }\n",
       "}"
      ]
     },
     "execution_count": 41,
     "metadata": {},
     "output_type": "execute_result"
    }
   ],
   "source": [
    "validator.expect_column_distinct_values_to_be_in_set(\n",
    "        \"food_&_beverages\",\n",
    "        [1.0, 2.0, 3.0, 4.0, 5.0]\n",
    "    )"
   ]
  },
  {
   "cell_type": "markdown",
   "metadata": {},
   "source": [
    "Dengan menggunakan validasi ini, memastikan bahwa nilai-nilai yang unik dalam kolom 'food_&_beverages' hanya terdiri dari nilai-nilai yang diizinkan dalam list yang ditentukan, yaitu [1.0, 2.0, 3.0, 4.0, 5.0]. Hal ini berguna untuk memeriksa konsistensi data dan memastikan bahwa nilai-nilai dalam kolom tersebut sesuai dengan harapan."
   ]
  },
  {
   "cell_type": "markdown",
   "metadata": {},
   "source": [
    "## Expectation 8 : Cek apa bila unique values pada kolom 'wifi_&_connectivity' berada pada range yang sudah dituliskan"
   ]
  },
  {
   "cell_type": "code",
   "execution_count": 44,
   "metadata": {},
   "outputs": [
    {
     "data": {
      "application/vnd.jupyter.widget-view+json": {
       "model_id": "d669c95a81ef4c778e908dfd1a76eeea",
       "version_major": 2,
       "version_minor": 0
      },
      "text/plain": [
       "Calculating Metrics:   0%|          | 0/4 [00:00<?, ?it/s]"
      ]
     },
     "metadata": {},
     "output_type": "display_data"
    },
    {
     "data": {
      "text/plain": [
       "{\n",
       "  \"success\": true,\n",
       "  \"result\": {\n",
       "    \"observed_value\": 5\n",
       "  },\n",
       "  \"meta\": {},\n",
       "  \"exception_info\": {\n",
       "    \"raised_exception\": false,\n",
       "    \"exception_traceback\": null,\n",
       "    \"exception_message\": null\n",
       "  }\n",
       "}"
      ]
     },
     "execution_count": 44,
     "metadata": {},
     "output_type": "execute_result"
    }
   ],
   "source": [
    "validator.expect_column_unique_value_count_to_be_between('wifi_&_connectivity', 0, 7)"
   ]
  },
  {
   "cell_type": "markdown",
   "metadata": {},
   "source": [
    "Dengan menggunakan validasi ini, memastikan bahwa jumlah nilai unik dalam kolom 'wifi_&_connectivity' berada dalam rentang yang diizinkan, yaitu dari 0 hingga 7."
   ]
  }
 ],
 "metadata": {
  "kernelspec": {
   "display_name": "base",
   "language": "python",
   "name": "python3"
  },
  "language_info": {
   "codemirror_mode": {
    "name": "ipython",
    "version": 3
   },
   "file_extension": ".py",
   "mimetype": "text/x-python",
   "name": "python",
   "nbconvert_exporter": "python",
   "pygments_lexer": "ipython3",
   "version": "3.11.5"
  }
 },
 "nbformat": 4,
 "nbformat_minor": 2
}
